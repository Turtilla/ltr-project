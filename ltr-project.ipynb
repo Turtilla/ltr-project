{
 "cells": [
  {
   "cell_type": "code",
   "execution_count": 1,
   "id": "5e35f443",
   "metadata": {},
   "outputs": [],
   "source": [
    "import pickle\n",
    "import requests\n",
    "import math"
   ]
  },
  {
   "cell_type": "code",
   "execution_count": 2,
   "id": "6436f10b",
   "metadata": {},
   "outputs": [],
   "source": [
    "# from https://cloud.gate.ac.uk/shopfront/displayItem/tagger-pos-pl-maxent1 - \"A POS tagger for pl / Polish using the Universal \n",
    "# Dependencies POS tagset.\n",
    "# This tagger is based on a simple maximum entropy model trained on the corpus from the universal dependencies collection using \n",
    "# the GATE Learning Framework plugin.\n",
    "# The model is trained on all available corpora, except the test corpus. Evaluation on the test set gives 0.9456 accuracy. \n",
    "# Accuracy on out-of-vocabulary words (words not seen in the trainin set) is 0.9122 (case-sensitive) / 0.9174 (not \n",
    "# case-sensitive).\"\n",
    "\n",
    "URL = 'https://cloud-api.gate.ac.uk/process/tagger-pos-pl-maxent1'\n",
    "PARAMS = {\n",
    "    'Content-Type': 'text/plain',\n",
    "    'Accept': 'application/json'\n",
    "}\n",
    "file = 'memoirs_annotated_3k.txt'"
   ]
  },
  {
   "cell_type": "code",
   "execution_count": 3,
   "id": "35c7ed50",
   "metadata": {},
   "outputs": [],
   "source": [
    "def retrieve_text(filename):\n",
    "    with open(filename) as f:\n",
    "        lines = f.readlines()\n",
    "        \n",
    "        all_lines = []\n",
    "        for line in lines:\n",
    "            all_lines.append(line.strip())\n",
    "        return all_lines"
   ]
  },
  {
   "cell_type": "code",
   "execution_count": 15,
   "id": "c6597072",
   "metadata": {},
   "outputs": [],
   "source": [
    "text = retrieve_text(file)"
   ]
  },
  {
   "cell_type": "code",
   "execution_count": 5,
   "id": "5e0ddd82",
   "metadata": {},
   "outputs": [],
   "source": [
    "class OriginalAnnotations:\n",
    "    def __init__(self, data):\n",
    "        self.tokens = []\n",
    "        self.gold_standard = []\n",
    "        \n",
    "        for sentence in text:\n",
    "            sentence.strip()\n",
    "            sentence = sentence.split(\" \")\n",
    "            for annotated_token in sentence:\n",
    "                if annotated_token[0] == '[':\n",
    "                    annotated_token = annotated_token[1:]\n",
    "                if annotated_token[-1] == ']':\n",
    "                    annotated_token = annotated_token[:-1]\n",
    "                split_token = annotated_token.split('_')\n",
    "                self.tokens.append(split_token[0])\n",
    "                self.gold_standard.append(split_token[1])"
   ]
  },
  {
   "cell_type": "code",
   "execution_count": 6,
   "id": "739e79ce",
   "metadata": {},
   "outputs": [],
   "source": [
    "original_text = OriginalAnnotations(text)"
   ]
  },
  {
   "cell_type": "code",
   "execution_count": 12,
   "id": "3f3c7fd6",
   "metadata": {},
   "outputs": [],
   "source": [
    "class TaggerAnnotations:\n",
    "    def __init__(self, url, headers, data):\n",
    "        \n",
    "        self.processed_annotations = []\n",
    "        self.only_annotations = []\n",
    "        \n",
    "        if len(data) > 1000:\n",
    "            prev_i = 0\n",
    "            for i in range(1, math.floor(len(data)/1000)):\n",
    "                subset = data[prev_i*1000:i*1000]\n",
    "                prev_i = i\n",
    "                subset = ' '.join(subset)\n",
    "                r = requests.post(url=url, data=subset.encode('utf-8'), headers=headers)\n",
    "                annotations = r.json()\n",
    "                for entry in annotations['entities']['Token']:\n",
    "                    self.__retrieve_anns(entry)\n",
    "                    \n",
    "            subset = data[prev_i*1000:]\n",
    "            subset = ' '.join(subset)\n",
    "            r = requests.post(url=url, data=subset.encode('utf-8'), headers=headers)\n",
    "            annotations = r.json()\n",
    "            for entry in annotations['entities']['Token']:\n",
    "                self.__retrieve_anns(entry)        \n",
    "            \n",
    "        \n",
    "        else:\n",
    "            data = ' '.join(data)\n",
    "\n",
    "            r = requests.post(url=url, data=data.encode('utf-8'), headers=headers) \n",
    "            self.annotations = r.json()\n",
    "\n",
    "            for entry in self.annotations['entities']['Token']:\n",
    "                self.__retrieve_anns(entry)\n",
    "\n",
    "    def print_annotations(self):\n",
    "        for entry in self.processed_annotations:\n",
    "            print(entry[0] + ' | ' + entry[1] + ' | ' + str(entry[2]))\n",
    "            \n",
    "    def __retrieve_anns(self, entry):\n",
    "        word = entry['string']\n",
    "        pos = entry['upos']\n",
    "        confidence = entry['LF_confidence']\n",
    "        target_list = entry['LF_target_list']\n",
    "        confidence_list = entry['LF_confidence_list']\n",
    "\n",
    "        annotation = [word, pos, confidence, target_list, confidence_list]\n",
    "        self.processed_annotations.append(annotation)\n",
    "        self.only_annotations.append(pos)\n",
    "        "
   ]
  },
  {
   "cell_type": "code",
   "execution_count": 13,
   "id": "c805833f",
   "metadata": {},
   "outputs": [],
   "source": [
    "tagger_anns_1 = TaggerAnnotations(URL, PARAMS, original_text.tokens)"
   ]
  },
  {
   "cell_type": "code",
   "execution_count": 14,
   "id": "a438d5b0",
   "metadata": {},
   "outputs": [],
   "source": [
    "for i in range(0,len(tagger_anns_1.processed_annotations)):\n",
    "    if tagger_anns_1.processed_annotations[i][0] != original_text.tokens[i]:\n",
    "        print(f'mismatch at {i}: {tagger_anns_1.processed_annotations[i][0]} and {original_text.tokens[i]}')\n",
    "        print()"
   ]
  },
  {
   "cell_type": "code",
   "execution_count": null,
   "id": "8d977270",
   "metadata": {},
   "outputs": [],
   "source": []
  }
 ],
 "metadata": {
  "kernelspec": {
   "display_name": "Python 3 (ipykernel)",
   "language": "python",
   "name": "python3"
  },
  "language_info": {
   "codemirror_mode": {
    "name": "ipython",
    "version": 3
   },
   "file_extension": ".py",
   "mimetype": "text/x-python",
   "name": "python",
   "nbconvert_exporter": "python",
   "pygments_lexer": "ipython3",
   "version": "3.8.10"
  }
 },
 "nbformat": 4,
 "nbformat_minor": 5
}
