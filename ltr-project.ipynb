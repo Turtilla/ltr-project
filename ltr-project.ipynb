{
 "cells": [
  {
   "cell_type": "markdown",
   "id": "9d6e09f5",
   "metadata": {},
   "source": [
    "# Evaluating a Modern Polish POS-Tagger on Historical Data\n",
    "### by Maria Irena Szawerna"
   ]
  },
  {
   "cell_type": "markdown",
   "id": "f77fe96b",
   "metadata": {},
   "source": [
    "### IMPORTS, VARIABLES, AND PARAMETERS"
   ]
  },
  {
   "cell_type": "code",
   "execution_count": 1,
   "id": "5e35f443",
   "metadata": {},
   "outputs": [],
   "source": [
    "import requests\n",
    "import math\n",
    "import sklearn.metrics\n",
    "import pandas as pd\n",
    "from tqdm import tqdm\n",
    "import matplotlib.pyplot as plt\n",
    "import time\n",
    "\n",
    "pd.set_option('display.max_rows', None)"
   ]
  },
  {
   "cell_type": "code",
   "execution_count": 2,
   "id": "6436f10b",
   "metadata": {},
   "outputs": [],
   "source": [
    "# from https://cloud.gate.ac.uk/shopfront/displayItem/tagger-pos-pl-maxent1 - \"A POS tagger for pl / Polish using the Universal \n",
    "# Dependencies POS tagset.\n",
    "# instructions on how to use the API from https://cloud.gate.ac.uk/info/help/online-api.html\n",
    "\n",
    "URL = 'https://cloud-api.gate.ac.uk/process/tagger-pos-pl-maxent1'\n",
    "PARAMS = {\n",
    "    'Content-Type': 'text/plain',\n",
    "    'Accept': 'application/json'\n",
    "}\n",
    "file = 'memoirs_annotated_3k.txt'"
   ]
  },
  {
   "cell_type": "markdown",
   "id": "c7c14e80",
   "metadata": {},
   "source": [
    "### FUNCTIONS AND CLASSES"
   ]
  },
  {
   "cell_type": "code",
   "execution_count": 3,
   "id": "35c7ed50",
   "metadata": {},
   "outputs": [],
   "source": [
    "def retrieve_text(filename: str):\n",
    "    '''A function intended for opening and reading a text file, with lines being stripped of leading and trailing whitespace.\n",
    "    \n",
    "    Args:\n",
    "        filename (str): The name of the file or path to the file that is to be opened.\n",
    "        \n",
    "    Returns:\n",
    "        A list of strings representing the lines in the file, stripped of whitespace on the edges.\n",
    "    '''\n",
    "    with open(filename) as f:\n",
    "        lines = f.readlines()\n",
    "        \n",
    "        all_lines = []\n",
    "        for line in lines:\n",
    "            all_lines.append(line.strip())\n",
    "        return all_lines"
   ]
  },
  {
   "cell_type": "code",
   "execution_count": 4,
   "id": "824c1915",
   "metadata": {},
   "outputs": [],
   "source": [
    "class OriginalAnnotations:\n",
    "    '''A class intended to process and store the tokens and their respective annotations from the original text.\n",
    "    \n",
    "    Attributes:\n",
    "        tokens (list[str]): A list of all the tokens (without annotation) in the original data. Every element of the list is a string.\n",
    "        gold_standard (list[str]): A list of all the original annotations (without tokens). Every element is a string.\n",
    "    '''\n",
    "    def __init__(self, data: list, lowercase: bool = False):\n",
    "        '''The __init__ method of the class.\n",
    "        Constructs the token and gold_standard lists.\n",
    "        \n",
    "        Args:\n",
    "            data (list[str]): A list of annotated sentences. Every element of the list is a string representing the whole sentence.\n",
    "            lowercase (bool): Determines whether the tokens should be lowercased or if original capitalization should be retained.\n",
    "        '''\n",
    "        self.tokens = []\n",
    "        self.gold_standard = []\n",
    "        \n",
    "        for sentence in text:\n",
    "            sentence.strip()\n",
    "            sentence = sentence.split(\" \")\n",
    "            for annotated_token in sentence:\n",
    "                if annotated_token[0] == '[':\n",
    "                    annotated_token = annotated_token[1:]\n",
    "                if annotated_token[-1] == ']':\n",
    "                    annotated_token = annotated_token[:-1]\n",
    "                split_token = annotated_token.split('_')\n",
    "                if not lowercase:\n",
    "                    self.tokens.append(split_token[0])\n",
    "                else:\n",
    "                    self.tokens.append(split_token[0].lower())\n",
    "                self.gold_standard.append(split_token[1])\n",
    "                \n",
    "    def __len__(self):\n",
    "        '''The __len__ magic method of the class.\n",
    "            \n",
    "        Returns:\n",
    "            The length of self.tokens, which should be identical to the length of self.gold_standard.\n",
    "        '''\n",
    "        return len(self.tokens)\n",
    "        \n",
    "    def __getitem__(self, index: int):\n",
    "        '''The __getitem__ magic method of the class.\n",
    "            \n",
    "        Args:\n",
    "            index (int): The index signifying the desired element.\n",
    "            \n",
    "        Returns:\n",
    "            A string representing the combination of the original token and annotation.\n",
    "        '''\n",
    "        token = self.tokens[index]\n",
    "        annotation = self.gold_standard[index]\n",
    "        item = '_'.join([token, annotation])\n",
    "            \n",
    "        return item"
   ]
  },
  {
   "cell_type": "code",
   "execution_count": 5,
   "id": "3f3c7fd6",
   "metadata": {},
   "outputs": [],
   "source": [
    "class TaggerAnnotations:\n",
    "    '''A class intended for retrieving, processing, and storing the annotations from an online tagger.\n",
    "    \n",
    "    Attributes:\n",
    "        processed_annotations (list[list]): A list of lists, every element of which represents a number of values returned by the\n",
    "            tagger. The values include the token, the POS tag, the confidence thereof, a list of possible targets and a list\n",
    "            of those confidences.\n",
    "        only_annotations (list[str]): A list containing only the POS tags obtained from the tagger.    \n",
    "    '''\n",
    "    def __init__(self, url: str, headers: dict, data: list):\n",
    "        '''The __init__ method of the class.\n",
    "        Retrieves the tagger annotations (in batches, if needed), constructs processed_annotations and only_annotations using\n",
    "        the __retrieve_anns method.\n",
    "        \n",
    "        Args:\n",
    "            url (str): The URL to which the query should be made.\n",
    "            headers (dict): The parameters that the query requires.\n",
    "            data (list[str]): The original, unannotated data represented as a list of individual tokens (not sentences).        \n",
    "        '''\n",
    "        self.processed_annotations = []\n",
    "        self.only_annotations = []\n",
    "        \n",
    "        if len(data) > 1000:  # this is required due to the tagger bottleneck\n",
    "            prev_i = 0\n",
    "            for i in range(1, math.floor(len(data)/1000)):\n",
    "                subset = data[prev_i*1000:i*1000]\n",
    "                prev_i = i\n",
    "                subset = ' '.join(subset)\n",
    "                r = requests.post(url=url, data=subset.encode('utf-8'), headers=headers)\n",
    "                annotations = r.json()\n",
    "                for entry in tqdm(annotations['entities']['Token'], desc='Loading annotations...'):\n",
    "                    self.__retrieve_anns(entry)\n",
    "                    \n",
    "            subset = data[prev_i*1000:]\n",
    "            subset = ' '.join(subset)\n",
    "            r = requests.post(url=url, data=subset.encode('utf-8'), headers=headers)\n",
    "            annotations = r.json()\n",
    "            for entry in tqdm(annotations['entities']['Token'], desc='Loading annotations...'):\n",
    "                self.__retrieve_anns(entry)        \n",
    "            \n",
    "        \n",
    "        else:\n",
    "            data = ' '.join(data)\n",
    "\n",
    "            r = requests.post(url=url, data=data.encode('utf-8'), headers=headers) \n",
    "            self.annotations = r.json()\n",
    "\n",
    "            for entry in tqdm(annotations['entities']['Token'], desc='Loading annotations...'):\n",
    "                self.__retrieve_anns(entry)\n",
    "\n",
    "    def print_annotations(self):\n",
    "        '''A method of the class which prints out all words with their annotation and the confidence thereof.\n",
    "        '''\n",
    "        for entry in self.processed_annotations:\n",
    "            print(entry[0] + ' | ' + entry[1] + ' | ' + str(entry[2]))\n",
    "            \n",
    "    def __retrieve_anns(self, entry: dict):\n",
    "        '''A method of the class which reads the data returned by the tagger and stores the relevant elements in appropriate\n",
    "        lists.\n",
    "        \n",
    "        Args:\n",
    "            entry (dict): An entry returned by the tagger.\n",
    "        '''\n",
    "        word = entry['string']\n",
    "        pos = entry['upos']\n",
    "        confidence = entry['LF_confidence']\n",
    "        target_list = entry['LF_target_list']\n",
    "        confidence_list = entry['LF_confidence_list']\n",
    "\n",
    "        annotation = [word, pos, confidence, target_list, confidence_list]\n",
    "        self.processed_annotations.append(annotation)\n",
    "        self.only_annotations.append(pos)\n",
    "        \n",
    "    def __len__(self):\n",
    "        '''The __len__ magic method of the class.\n",
    "            \n",
    "        Returns:\n",
    "            The length of self.only_annotations, which should be identical to the length of self.processed_annotations.\n",
    "        '''\n",
    "        return len(self.only_annotations)\n",
    "        \n",
    "    def __getitem__(self, index: int):\n",
    "        '''The __getitem__ magic method of the class.\n",
    "            \n",
    "        Args:\n",
    "            index (int): The index signifying the desired element.\n",
    "            \n",
    "        Returns:\n",
    "            A string representing the combination of the original token and the tagger annotation.\n",
    "        '''\n",
    "        full_ann = self.processed_annotations[index]\n",
    "        token = full_ann[0]\n",
    "        annotation = full_ann[1]\n",
    "        item = '_'.join([token, annotation])\n",
    "            \n",
    "        return item\n",
    "        "
   ]
  },
  {
   "cell_type": "code",
   "execution_count": 6,
   "id": "57a186b4",
   "metadata": {},
   "outputs": [],
   "source": [
    "def get_measures(gold_standard: list, predictions: list):\n",
    "    '''A function intended for retrieving a selection of evaluation measures for comparing the gold standard and the tagger\n",
    "    annotations. The measures are printed out and include accuracy, Matthew's Correlation Coefficient, per-class precision \n",
    "    and recall, as well as a confusion matrix, which, in addition, get saved locally. These measures are calculated using \n",
    "    functions from sklearn and pyplot.\n",
    "    \n",
    "    Args:\n",
    "        gold_standard (list[str]): A list of gold standard labels.\n",
    "        predictions (list[str]): A list of predicted labels.\n",
    "    '''\n",
    "    labels = sorted(list(set(gold_standard)))\n",
    "    print('MEASURES:')\n",
    "    print(f'Accuracy: {\"{:.2%}\".format(sklearn.metrics.accuracy_score(gold_standard, predictions))}')\n",
    "    print(f'Matthew\\'s Correlation Coefficient: {\"{:.2%}\".format(sklearn.metrics.matthews_corrcoef(gold_standard, predictions))}')\n",
    "    print()\n",
    "    print('MEASURES PER CLASS:')\n",
    "    precision = sklearn.metrics.precision_score(gold_standard, predictions, average=None, labels=labels)\n",
    "    print('Precision:')\n",
    "    for i in range(0,len(labels)):\n",
    "        print(f'\\t{labels[i]}: {\"{:.2%}\".format(precision[i])}')\n",
    "    recall = sklearn.metrics.recall_score(gold_standard, predictions, average=None, labels=labels)\n",
    "    print('Recall:')\n",
    "    for i in range(0,len(labels)):\n",
    "        print(f'\\t{labels[i]}: {\"{:.2%}\".format(recall[i])}')\n",
    "    print()\n",
    "    print('Confusion matrix:')\n",
    "    cm = sklearn.metrics.confusion_matrix(gold_standard, predictions)\n",
    "    matrix = sklearn.metrics.ConfusionMatrixDisplay(cm, display_labels=labels)\n",
    "    fig, ax = plt.subplots(figsize=(12,12))\n",
    "    matrix.plot(ax=ax)\n",
    "    \n",
    "    timestr = time.strftime(\"%Y%m%d-%H%M%S\")\n",
    "    plt.savefig(\"./images/\" + timestr + \"confusion_matrix.jpg\")\n",
    "    "
   ]
  },
  {
   "cell_type": "code",
   "execution_count": 7,
   "id": "a3045af5",
   "metadata": {},
   "outputs": [],
   "source": [
    "def get_problematic_anns(\n",
    "    gold_standard: list, \n",
    "    predictions: list, \n",
    "    processed_annotations: list, \n",
    "    tokens: list\n",
    "):\n",
    "    '''A function intended for collecting the wrong annotations from the tagger and storing them in a DataFrame with the \n",
    "    original token, context, gold standard, prediction, and the confidence of that prediction.\n",
    "    \n",
    "    Args:\n",
    "        gold_standard (list[str]): A list of gold standard tags represented as strings.\n",
    "        predictions (list[str]): A list of predicted tags represented as strings.\n",
    "        processed_annotations (list[list]): A list of lists where every element represents information about the annotation as\n",
    "            obtained from the tagger.\n",
    "        tokens (list[str]): A list of the original tokens.\n",
    "        \n",
    "    Returns:\n",
    "        A DataFrame containing the original token, context, gold standard, prediction, and the confidence of that prediction \n",
    "        for every mismatched prediction and gold standard.\n",
    "    '''\n",
    "    problematic = []\n",
    "    for i in range(0, len(tokens)):\n",
    "        \n",
    "        if gold_standard[i] != predictions[i]:\n",
    "            if i != 0:\n",
    "                preceding = tokens[i-1]\n",
    "            else:\n",
    "                preceding = ''\n",
    "                \n",
    "            if i != len(tokens)-1:\n",
    "                succeeding = tokens[i+1]\n",
    "            else:\n",
    "                succeeding = ''\n",
    "                \n",
    "            problematic.append(\n",
    "                (tokens[i], \n",
    "                 ' '.join([preceding, tokens[i], succeeding]), \n",
    "                 gold_standard[i], \n",
    "                 predictions[i], \n",
    "                 processed_annotations[i][2])\n",
    "            )\n",
    "            \n",
    "    problematic_frame = pd.DataFrame(problematic, columns=['Token', 'Context', 'Gold Standard', 'Prediction', 'Confidence'])\n",
    "    \n",
    "    return problematic_frame"
   ]
  },
  {
   "cell_type": "markdown",
   "id": "5ecbac61",
   "metadata": {},
   "source": [
    "### RESULTS (non-lowercase)"
   ]
  },
  {
   "cell_type": "code",
   "execution_count": 8,
   "id": "c6597072",
   "metadata": {},
   "outputs": [],
   "source": [
    "# retrieving the lines from the annotated file\n",
    "text = retrieve_text(file)"
   ]
  },
  {
   "cell_type": "code",
   "execution_count": 9,
   "id": "a1579681",
   "metadata": {},
   "outputs": [],
   "source": [
    "# creating an OriginalAnnotations object to store the tokens and original annotations\n",
    "original_text = OriginalAnnotations(text)"
   ]
  },
  {
   "cell_type": "code",
   "execution_count": 10,
   "id": "c805833f",
   "metadata": {},
   "outputs": [
    {
     "name": "stderr",
     "output_type": "stream",
     "text": [
      "Loading annotations...: 100%|███████████████████████████████████████████████████| 1000/1000 [00:00<00:00, 315598.50it/s]\n",
      "Loading annotations...: 100%|███████████████████████████████████████████████████| 1000/1000 [00:00<00:00, 448780.65it/s]\n",
      "Loading annotations...: 100%|███████████████████████████████████████████████████| 1270/1270 [00:00<00:00, 431596.67it/s]\n"
     ]
    }
   ],
   "source": [
    "# creating a TaggerAnnotations object to retrieve and store tagger annotations\n",
    "tagger_anns = TaggerAnnotations(URL, PARAMS, original_text.tokens)"
   ]
  },
  {
   "cell_type": "code",
   "execution_count": 11,
   "id": "a438d5b0",
   "metadata": {},
   "outputs": [],
   "source": [
    "# sanity check\n",
    "for i in range(0,len(tagger_anns.processed_annotations)):\n",
    "    if tagger_anns.processed_annotations[i][0] != original_text.tokens[i]:\n",
    "        print(f'mismatch at {i}: {tagger_anns.processed_annotations[i][0]} and {original_text.tokens[i]}')\n",
    "        print()"
   ]
  },
  {
   "cell_type": "code",
   "execution_count": 12,
   "id": "2ba37c1c",
   "metadata": {},
   "outputs": [
    {
     "name": "stdout",
     "output_type": "stream",
     "text": [
      "MEASURES:\n",
      "Accuracy: 83.98%\n",
      "Matthew's Correlation Coefficient: 81.82%\n",
      "\n",
      "MEASURES PER CLASS:\n",
      "Precision:\n",
      "\tADJ: 61.51%\n",
      "\tADP: 95.65%\n",
      "\tADV: 72.29%\n",
      "\tAUX: 76.92%\n",
      "\tCCONJ: 97.52%\n",
      "\tDET: 98.46%\n",
      "\tNOUN: 84.94%\n",
      "\tNUM: 73.68%\n",
      "\tPART: 82.22%\n",
      "\tPRON: 82.89%\n",
      "\tPROPN: 66.23%\n",
      "\tPUNCT: 100.00%\n",
      "\tSCONJ: 80.43%\n",
      "\tVERB: 84.40%\n",
      "\tX: 64.52%\n",
      "Recall:\n",
      "\tADJ: 78.90%\n",
      "\tADP: 97.06%\n",
      "\tADV: 70.59%\n",
      "\tAUX: 74.63%\n",
      "\tCCONJ: 95.73%\n",
      "\tDET: 42.11%\n",
      "\tNOUN: 79.56%\n",
      "\tNUM: 65.12%\n",
      "\tPART: 59.68%\n",
      "\tPRON: 88.73%\n",
      "\tPROPN: 93.09%\n",
      "\tPUNCT: 100.00%\n",
      "\tSCONJ: 53.62%\n",
      "\tVERB: 90.38%\n",
      "\tX: 52.63%\n",
      "\n",
      "Confusion matrix:\n"
     ]
    },
    {
     "ename": "FileNotFoundError",
     "evalue": "[Errno 2] No such file or directory: './images/20221229-214541confusion_matrix.jpg'",
     "output_type": "error",
     "traceback": [
      "\u001b[0;31m---------------------------------------------------------------------------\u001b[0m",
      "\u001b[0;31mFileNotFoundError\u001b[0m                         Traceback (most recent call last)",
      "\u001b[0;32m/tmp/ipykernel_634/442081285.py\u001b[0m in \u001b[0;36m<module>\u001b[0;34m\u001b[0m\n\u001b[1;32m      1\u001b[0m \u001b[0;31m# evaluating the tagger annotations\u001b[0m\u001b[0;34m\u001b[0m\u001b[0;34m\u001b[0m\u001b[0;34m\u001b[0m\u001b[0m\n\u001b[0;32m----> 2\u001b[0;31m \u001b[0mget_measures\u001b[0m\u001b[0;34m(\u001b[0m\u001b[0moriginal_text\u001b[0m\u001b[0;34m.\u001b[0m\u001b[0mgold_standard\u001b[0m\u001b[0;34m,\u001b[0m \u001b[0mtagger_anns\u001b[0m\u001b[0;34m.\u001b[0m\u001b[0monly_annotations\u001b[0m\u001b[0;34m)\u001b[0m\u001b[0;34m\u001b[0m\u001b[0;34m\u001b[0m\u001b[0m\n\u001b[0m",
      "\u001b[0;32m/tmp/ipykernel_634/540285706.py\u001b[0m in \u001b[0;36mget_measures\u001b[0;34m(gold_standard, predictions)\u001b[0m\n\u001b[1;32m     31\u001b[0m \u001b[0;34m\u001b[0m\u001b[0m\n\u001b[1;32m     32\u001b[0m     \u001b[0mtimestr\u001b[0m \u001b[0;34m=\u001b[0m \u001b[0mtime\u001b[0m\u001b[0;34m.\u001b[0m\u001b[0mstrftime\u001b[0m\u001b[0;34m(\u001b[0m\u001b[0;34m\"%Y%m%d-%H%M%S\"\u001b[0m\u001b[0;34m)\u001b[0m\u001b[0;34m\u001b[0m\u001b[0;34m\u001b[0m\u001b[0m\n\u001b[0;32m---> 33\u001b[0;31m     \u001b[0mplt\u001b[0m\u001b[0;34m.\u001b[0m\u001b[0msavefig\u001b[0m\u001b[0;34m(\u001b[0m\u001b[0;34m\"./images/\"\u001b[0m \u001b[0;34m+\u001b[0m \u001b[0mtimestr\u001b[0m \u001b[0;34m+\u001b[0m \u001b[0;34m\"confusion_matrix.jpg\"\u001b[0m\u001b[0;34m)\u001b[0m\u001b[0;34m\u001b[0m\u001b[0;34m\u001b[0m\u001b[0m\n\u001b[0m\u001b[1;32m     34\u001b[0m \u001b[0;34m\u001b[0m\u001b[0m\n",
      "\u001b[0;32m~/.local/lib/python3.8/site-packages/matplotlib/pyplot.py\u001b[0m in \u001b[0;36msavefig\u001b[0;34m(*args, **kwargs)\u001b[0m\n\u001b[1;32m    857\u001b[0m \u001b[0;32mdef\u001b[0m \u001b[0msavefig\u001b[0m\u001b[0;34m(\u001b[0m\u001b[0;34m*\u001b[0m\u001b[0margs\u001b[0m\u001b[0;34m,\u001b[0m \u001b[0;34m**\u001b[0m\u001b[0mkwargs\u001b[0m\u001b[0;34m)\u001b[0m\u001b[0;34m:\u001b[0m\u001b[0;34m\u001b[0m\u001b[0;34m\u001b[0m\u001b[0m\n\u001b[1;32m    858\u001b[0m     \u001b[0mfig\u001b[0m \u001b[0;34m=\u001b[0m \u001b[0mgcf\u001b[0m\u001b[0;34m(\u001b[0m\u001b[0;34m)\u001b[0m\u001b[0;34m\u001b[0m\u001b[0;34m\u001b[0m\u001b[0m\n\u001b[0;32m--> 859\u001b[0;31m     \u001b[0mres\u001b[0m \u001b[0;34m=\u001b[0m \u001b[0mfig\u001b[0m\u001b[0;34m.\u001b[0m\u001b[0msavefig\u001b[0m\u001b[0;34m(\u001b[0m\u001b[0;34m*\u001b[0m\u001b[0margs\u001b[0m\u001b[0;34m,\u001b[0m \u001b[0;34m**\u001b[0m\u001b[0mkwargs\u001b[0m\u001b[0;34m)\u001b[0m\u001b[0;34m\u001b[0m\u001b[0;34m\u001b[0m\u001b[0m\n\u001b[0m\u001b[1;32m    860\u001b[0m     \u001b[0mfig\u001b[0m\u001b[0;34m.\u001b[0m\u001b[0mcanvas\u001b[0m\u001b[0;34m.\u001b[0m\u001b[0mdraw_idle\u001b[0m\u001b[0;34m(\u001b[0m\u001b[0;34m)\u001b[0m   \u001b[0;31m# need this if 'transparent=True' to reset colors\u001b[0m\u001b[0;34m\u001b[0m\u001b[0;34m\u001b[0m\u001b[0m\n\u001b[1;32m    861\u001b[0m     \u001b[0;32mreturn\u001b[0m \u001b[0mres\u001b[0m\u001b[0;34m\u001b[0m\u001b[0;34m\u001b[0m\u001b[0m\n",
      "\u001b[0;32m~/.local/lib/python3.8/site-packages/matplotlib/figure.py\u001b[0m in \u001b[0;36msavefig\u001b[0;34m(self, fname, transparent, **kwargs)\u001b[0m\n\u001b[1;32m   2309\u001b[0m                 \u001b[0mpatch\u001b[0m\u001b[0;34m.\u001b[0m\u001b[0mset_edgecolor\u001b[0m\u001b[0;34m(\u001b[0m\u001b[0;34m'none'\u001b[0m\u001b[0;34m)\u001b[0m\u001b[0;34m\u001b[0m\u001b[0;34m\u001b[0m\u001b[0m\n\u001b[1;32m   2310\u001b[0m \u001b[0;34m\u001b[0m\u001b[0m\n\u001b[0;32m-> 2311\u001b[0;31m         \u001b[0mself\u001b[0m\u001b[0;34m.\u001b[0m\u001b[0mcanvas\u001b[0m\u001b[0;34m.\u001b[0m\u001b[0mprint_figure\u001b[0m\u001b[0;34m(\u001b[0m\u001b[0mfname\u001b[0m\u001b[0;34m,\u001b[0m \u001b[0;34m**\u001b[0m\u001b[0mkwargs\u001b[0m\u001b[0;34m)\u001b[0m\u001b[0;34m\u001b[0m\u001b[0;34m\u001b[0m\u001b[0m\n\u001b[0m\u001b[1;32m   2312\u001b[0m \u001b[0;34m\u001b[0m\u001b[0m\n\u001b[1;32m   2313\u001b[0m         \u001b[0;32mif\u001b[0m \u001b[0mtransparent\u001b[0m\u001b[0;34m:\u001b[0m\u001b[0;34m\u001b[0m\u001b[0;34m\u001b[0m\u001b[0m\n",
      "\u001b[0;32m~/.local/lib/python3.8/site-packages/matplotlib/backend_bases.py\u001b[0m in \u001b[0;36mprint_figure\u001b[0;34m(self, filename, dpi, facecolor, edgecolor, orientation, format, bbox_inches, pad_inches, bbox_extra_artists, backend, **kwargs)\u001b[0m\n\u001b[1;32m   2208\u001b[0m \u001b[0;34m\u001b[0m\u001b[0m\n\u001b[1;32m   2209\u001b[0m             \u001b[0;32mtry\u001b[0m\u001b[0;34m:\u001b[0m\u001b[0;34m\u001b[0m\u001b[0;34m\u001b[0m\u001b[0m\n\u001b[0;32m-> 2210\u001b[0;31m                 result = print_method(\n\u001b[0m\u001b[1;32m   2211\u001b[0m                     \u001b[0mfilename\u001b[0m\u001b[0;34m,\u001b[0m\u001b[0;34m\u001b[0m\u001b[0;34m\u001b[0m\u001b[0m\n\u001b[1;32m   2212\u001b[0m                     \u001b[0mdpi\u001b[0m\u001b[0;34m=\u001b[0m\u001b[0mdpi\u001b[0m\u001b[0;34m,\u001b[0m\u001b[0;34m\u001b[0m\u001b[0;34m\u001b[0m\u001b[0m\n",
      "\u001b[0;32m~/.local/lib/python3.8/site-packages/matplotlib/backend_bases.py\u001b[0m in \u001b[0;36mwrapper\u001b[0;34m(*args, **kwargs)\u001b[0m\n\u001b[1;32m   1637\u001b[0m             \u001b[0mkwargs\u001b[0m\u001b[0;34m.\u001b[0m\u001b[0mpop\u001b[0m\u001b[0;34m(\u001b[0m\u001b[0marg\u001b[0m\u001b[0;34m)\u001b[0m\u001b[0;34m\u001b[0m\u001b[0;34m\u001b[0m\u001b[0m\n\u001b[1;32m   1638\u001b[0m \u001b[0;34m\u001b[0m\u001b[0m\n\u001b[0;32m-> 1639\u001b[0;31m         \u001b[0;32mreturn\u001b[0m \u001b[0mfunc\u001b[0m\u001b[0;34m(\u001b[0m\u001b[0;34m*\u001b[0m\u001b[0margs\u001b[0m\u001b[0;34m,\u001b[0m \u001b[0;34m**\u001b[0m\u001b[0mkwargs\u001b[0m\u001b[0;34m)\u001b[0m\u001b[0;34m\u001b[0m\u001b[0;34m\u001b[0m\u001b[0m\n\u001b[0m\u001b[1;32m   1640\u001b[0m \u001b[0;34m\u001b[0m\u001b[0m\n\u001b[1;32m   1641\u001b[0m     \u001b[0;32mreturn\u001b[0m \u001b[0mwrapper\u001b[0m\u001b[0;34m\u001b[0m\u001b[0;34m\u001b[0m\u001b[0m\n",
      "\u001b[0;32m~/.local/lib/python3.8/site-packages/matplotlib/cbook/deprecation.py\u001b[0m in \u001b[0;36mwrapper\u001b[0;34m(*inner_args, **inner_kwargs)\u001b[0m\n\u001b[1;32m    409\u001b[0m                          \u001b[0;32melse\u001b[0m \u001b[0mdeprecation_addendum\u001b[0m\u001b[0;34m,\u001b[0m\u001b[0;34m\u001b[0m\u001b[0;34m\u001b[0m\u001b[0m\n\u001b[1;32m    410\u001b[0m                 **kwargs)\n\u001b[0;32m--> 411\u001b[0;31m         \u001b[0;32mreturn\u001b[0m \u001b[0mfunc\u001b[0m\u001b[0;34m(\u001b[0m\u001b[0;34m*\u001b[0m\u001b[0minner_args\u001b[0m\u001b[0;34m,\u001b[0m \u001b[0;34m**\u001b[0m\u001b[0minner_kwargs\u001b[0m\u001b[0;34m)\u001b[0m\u001b[0;34m\u001b[0m\u001b[0;34m\u001b[0m\u001b[0m\n\u001b[0m\u001b[1;32m    412\u001b[0m \u001b[0;34m\u001b[0m\u001b[0m\n\u001b[1;32m    413\u001b[0m     \u001b[0;32mreturn\u001b[0m \u001b[0mwrapper\u001b[0m\u001b[0;34m\u001b[0m\u001b[0;34m\u001b[0m\u001b[0m\n",
      "\u001b[0;32m~/.local/lib/python3.8/site-packages/matplotlib/cbook/deprecation.py\u001b[0m in \u001b[0;36mwrapper\u001b[0;34m(*inner_args, **inner_kwargs)\u001b[0m\n\u001b[1;32m    409\u001b[0m                          \u001b[0;32melse\u001b[0m \u001b[0mdeprecation_addendum\u001b[0m\u001b[0;34m,\u001b[0m\u001b[0;34m\u001b[0m\u001b[0;34m\u001b[0m\u001b[0m\n\u001b[1;32m    410\u001b[0m                 **kwargs)\n\u001b[0;32m--> 411\u001b[0;31m         \u001b[0;32mreturn\u001b[0m \u001b[0mfunc\u001b[0m\u001b[0;34m(\u001b[0m\u001b[0;34m*\u001b[0m\u001b[0minner_args\u001b[0m\u001b[0;34m,\u001b[0m \u001b[0;34m**\u001b[0m\u001b[0minner_kwargs\u001b[0m\u001b[0;34m)\u001b[0m\u001b[0;34m\u001b[0m\u001b[0;34m\u001b[0m\u001b[0m\n\u001b[0m\u001b[1;32m    412\u001b[0m \u001b[0;34m\u001b[0m\u001b[0m\n\u001b[1;32m    413\u001b[0m     \u001b[0;32mreturn\u001b[0m \u001b[0mwrapper\u001b[0m\u001b[0;34m\u001b[0m\u001b[0;34m\u001b[0m\u001b[0m\n",
      "\u001b[0;32m~/.local/lib/python3.8/site-packages/matplotlib/cbook/deprecation.py\u001b[0m in \u001b[0;36mwrapper\u001b[0;34m(*inner_args, **inner_kwargs)\u001b[0m\n\u001b[1;32m    409\u001b[0m                          \u001b[0;32melse\u001b[0m \u001b[0mdeprecation_addendum\u001b[0m\u001b[0;34m,\u001b[0m\u001b[0;34m\u001b[0m\u001b[0;34m\u001b[0m\u001b[0m\n\u001b[1;32m    410\u001b[0m                 **kwargs)\n\u001b[0;32m--> 411\u001b[0;31m         \u001b[0;32mreturn\u001b[0m \u001b[0mfunc\u001b[0m\u001b[0;34m(\u001b[0m\u001b[0;34m*\u001b[0m\u001b[0minner_args\u001b[0m\u001b[0;34m,\u001b[0m \u001b[0;34m**\u001b[0m\u001b[0minner_kwargs\u001b[0m\u001b[0;34m)\u001b[0m\u001b[0;34m\u001b[0m\u001b[0;34m\u001b[0m\u001b[0m\n\u001b[0m\u001b[1;32m    412\u001b[0m \u001b[0;34m\u001b[0m\u001b[0m\n\u001b[1;32m    413\u001b[0m     \u001b[0;32mreturn\u001b[0m \u001b[0mwrapper\u001b[0m\u001b[0;34m\u001b[0m\u001b[0;34m\u001b[0m\u001b[0m\n",
      "\u001b[0;32m~/.local/lib/python3.8/site-packages/matplotlib/cbook/deprecation.py\u001b[0m in \u001b[0;36mwrapper\u001b[0;34m(*inner_args, **inner_kwargs)\u001b[0m\n\u001b[1;32m    409\u001b[0m                          \u001b[0;32melse\u001b[0m \u001b[0mdeprecation_addendum\u001b[0m\u001b[0;34m,\u001b[0m\u001b[0;34m\u001b[0m\u001b[0;34m\u001b[0m\u001b[0m\n\u001b[1;32m    410\u001b[0m                 **kwargs)\n\u001b[0;32m--> 411\u001b[0;31m         \u001b[0;32mreturn\u001b[0m \u001b[0mfunc\u001b[0m\u001b[0;34m(\u001b[0m\u001b[0;34m*\u001b[0m\u001b[0minner_args\u001b[0m\u001b[0;34m,\u001b[0m \u001b[0;34m**\u001b[0m\u001b[0minner_kwargs\u001b[0m\u001b[0;34m)\u001b[0m\u001b[0;34m\u001b[0m\u001b[0;34m\u001b[0m\u001b[0m\n\u001b[0m\u001b[1;32m    412\u001b[0m \u001b[0;34m\u001b[0m\u001b[0m\n\u001b[1;32m    413\u001b[0m     \u001b[0;32mreturn\u001b[0m \u001b[0mwrapper\u001b[0m\u001b[0;34m\u001b[0m\u001b[0;34m\u001b[0m\u001b[0m\n",
      "\u001b[0;32m~/.local/lib/python3.8/site-packages/matplotlib/backends/backend_agg.py\u001b[0m in \u001b[0;36mprint_jpg\u001b[0;34m(self, filename_or_obj, dryrun, pil_kwargs, *args, **kwargs)\u001b[0m\n\u001b[1;32m    590\u001b[0m         \u001b[0mpil_kwargs\u001b[0m\u001b[0;34m.\u001b[0m\u001b[0msetdefault\u001b[0m\u001b[0;34m(\u001b[0m\u001b[0;34m\"dpi\"\u001b[0m\u001b[0;34m,\u001b[0m \u001b[0;34m(\u001b[0m\u001b[0mself\u001b[0m\u001b[0;34m.\u001b[0m\u001b[0mfigure\u001b[0m\u001b[0;34m.\u001b[0m\u001b[0mdpi\u001b[0m\u001b[0;34m,\u001b[0m \u001b[0mself\u001b[0m\u001b[0;34m.\u001b[0m\u001b[0mfigure\u001b[0m\u001b[0;34m.\u001b[0m\u001b[0mdpi\u001b[0m\u001b[0;34m)\u001b[0m\u001b[0;34m)\u001b[0m\u001b[0;34m\u001b[0m\u001b[0;34m\u001b[0m\u001b[0m\n\u001b[1;32m    591\u001b[0m         \u001b[0;31m# Drop alpha channel now.\u001b[0m\u001b[0;34m\u001b[0m\u001b[0;34m\u001b[0m\u001b[0;34m\u001b[0m\u001b[0m\n\u001b[0;32m--> 592\u001b[0;31m         return (Image.fromarray(np.asarray(self.buffer_rgba())[..., :3])\n\u001b[0m\u001b[1;32m    593\u001b[0m                 .save(filename_or_obj, format='jpeg', **pil_kwargs))\n\u001b[1;32m    594\u001b[0m \u001b[0;34m\u001b[0m\u001b[0m\n",
      "\u001b[0;32m~/.local/lib/python3.8/site-packages/PIL/Image.py\u001b[0m in \u001b[0;36msave\u001b[0;34m(self, fp, format, **params)\u001b[0m\n\u001b[1;32m   2235\u001b[0m                 \u001b[0mfp\u001b[0m \u001b[0;34m=\u001b[0m \u001b[0mbuiltins\u001b[0m\u001b[0;34m.\u001b[0m\u001b[0mopen\u001b[0m\u001b[0;34m(\u001b[0m\u001b[0mfilename\u001b[0m\u001b[0;34m,\u001b[0m \u001b[0;34m\"r+b\"\u001b[0m\u001b[0;34m)\u001b[0m\u001b[0;34m\u001b[0m\u001b[0;34m\u001b[0m\u001b[0m\n\u001b[1;32m   2236\u001b[0m             \u001b[0;32melse\u001b[0m\u001b[0;34m:\u001b[0m\u001b[0;34m\u001b[0m\u001b[0;34m\u001b[0m\u001b[0m\n\u001b[0;32m-> 2237\u001b[0;31m                 \u001b[0mfp\u001b[0m \u001b[0;34m=\u001b[0m \u001b[0mbuiltins\u001b[0m\u001b[0;34m.\u001b[0m\u001b[0mopen\u001b[0m\u001b[0;34m(\u001b[0m\u001b[0mfilename\u001b[0m\u001b[0;34m,\u001b[0m \u001b[0;34m\"w+b\"\u001b[0m\u001b[0;34m)\u001b[0m\u001b[0;34m\u001b[0m\u001b[0;34m\u001b[0m\u001b[0m\n\u001b[0m\u001b[1;32m   2238\u001b[0m \u001b[0;34m\u001b[0m\u001b[0m\n\u001b[1;32m   2239\u001b[0m         \u001b[0;32mtry\u001b[0m\u001b[0;34m:\u001b[0m\u001b[0;34m\u001b[0m\u001b[0;34m\u001b[0m\u001b[0m\n",
      "\u001b[0;31mFileNotFoundError\u001b[0m: [Errno 2] No such file or directory: './images/20221229-214541confusion_matrix.jpg'"
     ]
    },
    {
     "data": {
      "image/png": "[encoded data removed]",
      "text/plain": [
       "<Figure size 864x864 with 2 Axes>"
      ]
     },
     "metadata": {
      "needs_background": "light"
     },
     "output_type": "display_data"
    }
   ],
   "source": [
    "# evaluating the tagger annotations\n",
    "get_measures(original_text.gold_standard, tagger_anns.only_annotations)"
   ]
  },
  {
   "cell_type": "code",
   "execution_count": null,
   "id": "93d01ce4",
   "metadata": {},
   "outputs": [],
   "source": [
    "# constructing a frame containing problematic annotations\n",
    "frame = get_problematic_anns(\n",
    "    original_text.gold_standard, \n",
    "    tagger_anns.only_annotations, \n",
    "    tagger_anns.processed_annotations, \n",
    "    original_text.tokens\n",
    ")"
   ]
  },
  {
   "cell_type": "code",
   "execution_count": null,
   "id": "6f7c6682",
   "metadata": {},
   "outputs": [],
   "source": [
    "# printing out the frame\n",
    "frame"
   ]
  },
  {
   "cell_type": "code",
   "execution_count": null,
   "id": "bd26e0eb",
   "metadata": {},
   "outputs": [],
   "source": [
    "# printing out the frame sorted by gold standard values\n",
    "frame.sort_values('Gold Standard')"
   ]
  },
  {
   "cell_type": "markdown",
   "id": "2f09a155",
   "metadata": {},
   "source": [
    "### RESULTS (lowercase)"
   ]
  },
  {
   "cell_type": "code",
   "execution_count": null,
   "id": "c72e001e",
   "metadata": {},
   "outputs": [],
   "source": [
    "# creating an OriginalAnnotations object to store the tokens and original annotations, in lowercase\n",
    "original_lowercase = OriginalAnnotations(text, lowercase=True)"
   ]
  },
  {
   "cell_type": "code",
   "execution_count": null,
   "id": "bba2a268",
   "metadata": {},
   "outputs": [],
   "source": [
    "# creating a TaggerAnnotations object to retrieve and store tagger annotations for lowercase tokens\n",
    "tagger_lowercase = TaggerAnnotations(URL, PARAMS, original_lowercase.tokens)"
   ]
  },
  {
   "cell_type": "code",
   "execution_count": null,
   "id": "588988fb",
   "metadata": {},
   "outputs": [],
   "source": [
    "# sanity check\n",
    "for i in range(0,len(tagger_lowercase.processed_annotations)):\n",
    "    if tagger_lowercase.processed_annotations[i][0] != original_lowercase.tokens[i]:\n",
    "        print(f'mismatch at {i}: {tagger_lowercase.processed_annotations[i][0]} and {original_lowercase.tokens[i]}')\n",
    "        print()"
   ]
  },
  {
   "cell_type": "code",
   "execution_count": null,
   "id": "0d19a6ef",
   "metadata": {},
   "outputs": [],
   "source": [
    "# evaluating the tagger annotations on lowercase tokens\n",
    "get_measures(original_lowercase.gold_standard, tagger_lowercase.only_annotations)"
   ]
  },
  {
   "cell_type": "code",
   "execution_count": null,
   "id": "d4b9ffbb",
   "metadata": {},
   "outputs": [],
   "source": [
    "# constructing a frame containing problematic annotations for lowercase tokens\n",
    "frame_lower = get_problematic_anns(\n",
    "    original_lowercase.gold_standard, \n",
    "    tagger_lowercase.only_annotations, \n",
    "    tagger_lowercase.processed_annotations, \n",
    "    original_lowercase.tokens\n",
    ")"
   ]
  },
  {
   "cell_type": "code",
   "execution_count": null,
   "id": "25d3d64f",
   "metadata": {},
   "outputs": [],
   "source": [
    "# printing out the frame\n",
    "frame_lower"
   ]
  },
  {
   "cell_type": "code",
   "execution_count": null,
   "id": "17eaa621",
   "metadata": {},
   "outputs": [],
   "source": [
    "# printing out the frame sorted by gold standard values\n",
    "frame_lower.sort_values('Gold Standard')"
   ]
  },
  {
   "cell_type": "code",
   "execution_count": null,
   "id": "74295395",
   "metadata": {},
   "outputs": [],
   "source": []
  }
 ],
 "metadata": {
  "kernelspec": {
   "display_name": "Python 3 (ipykernel)",
   "language": "python",
   "name": "python3"
  },
  "language_info": {
   "codemirror_mode": {
    "name": "ipython",
    "version": 3
   },
   "file_extension": ".py",
   "mimetype": "text/x-python",
   "name": "python",
   "nbconvert_exporter": "python",
   "pygments_lexer": "ipython3",
   "version": "3.8.10"
  }
 },
 "nbformat": 4,
 "nbformat_minor": 5
}
